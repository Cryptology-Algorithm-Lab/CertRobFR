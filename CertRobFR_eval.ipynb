{
 "cells": [
  {
   "cell_type": "markdown",
   "id": "e4004b37",
   "metadata": {},
   "source": [
    "# Toward Certifiably Robust Face Recognition\n",
    "\n",
    "- Seunghun Paik, Dongsoo Kim, Chanwoo Hwang, Sunpill Kim, and Jae Hong Seo\n",
    "- Accepted for presentation at ECCV 2024\n",
    "\n",
    "This is a notebook for reproducing the data reported in Table 1, 2"
   ]
  },
  {
   "cell_type": "markdown",
   "id": "def22bca",
   "metadata": {},
   "source": [
    "### Prerequisite\n",
    "\n",
    "- You need to download the same test datasets we used: LFW, CFP-FP and AgedDB. The aligned version of them can be found by downloading one of the datasets uploaded in https://github.com/deepinsight/insightface/tree/master/recognition/_datasets_"
   ]
  },
  {
   "cell_type": "markdown",
   "id": "22b96fbc",
   "metadata": {},
   "source": [
    "### Notes for Reproducing Section E.\n",
    "For reproducing the comparison with adversarailly trained models from RobFR, you need to downlaod the pre-trained weights from the following links\n",
    "\n",
    "- PGD-Arc:\n",
    "http://ml.cs.tsinghua.edu.cn/~dingcheng/ckpts/face_models/PGD_IR50_ArcFace/Backbone_IR_50_Epoch_16_Batch_30144_Time_2020-08-20-06-41_checkpoint.pth\n",
    "- PGD-Cos:\n",
    "http://ml.cs.tsinghua.edu.cn/~dingcheng/ckpts/face_models/PGD_IR50_CosFace/Backbone_IR_50_Epoch_32_Batch_60288_Time_2020-08-04-03-37_checkpoint.pth\n",
    "- TRADES-Arc:\n",
    "http://ml.cs.tsinghua.edu.cn/~dingcheng/ckpts/face_models/TRADES_IR50_ArcFace/Backbone_IR_50_Epoch_16_Batch_30144_Time_2020-09-03-09-58_checkpoint.pth\n",
    "- TRADES-Cos:\n",
    "http://ml.cs.tsinghua.edu.cn/~dingcheng/ckpts/face_models/TRADES_IR50_CosFace/Backbone_IR_50_Epoch_32_Batch_60288_Time_2020-09-06-04-48_checkpoint.pth\n",
    "\n",
    "Since these backbones gets images with the pixel range of [0, 255] as inputs, appropriate rescaling is required. Since we already did this when defining the model, so you don't need to care about it.\n",
    "\n",
    "In addition, their backbones are incompatible with those implemented in `insightface`. For this reason, we provide sourcdcodes in `/backbones/iresnet_AT.py` that were forked from the RobFR library."
   ]
  },
  {
   "cell_type": "markdown",
   "id": "cf1b104a",
   "metadata": {},
   "source": [
    "### Step 1. Load Dataset and Backbone"
   ]
  },
  {
   "cell_type": "code",
   "execution_count": null,
   "id": "8ce297ea",
   "metadata": {},
   "outputs": [],
   "source": [
    "# Dataset\n",
    "from eval.verification import load_bin\n",
    "img_dir = \"/* Your Directory for Test Datasets */\"\n",
    "lfw = load_bin(img_dir + \"lfw.bin\", (112,112))\n",
    "cfp = load_bin(img_dir + \"cfp_fp.bin\", (112,112))\n",
    "age = load_bin(img_dir + \"agedb_30.bin\", (112,112))\n",
    "datasets = [(\"LFW\", lfw), (\"CFP-FP\", cfp), (\"AgeDB\", age)]"
   ]
  },
  {
   "cell_type": "code",
   "execution_count": null,
   "id": "8c5f6429",
   "metadata": {},
   "outputs": [],
   "source": [
    "# Helper class for Re-scaling\n",
    "import torch\n",
    "from torch import nn\n",
    "import torch.nn.functional as F\n",
    "\n",
    "class Multiply2(nn.Module):\n",
    "    def __init__(self):\n",
    "        super().__init__()\n",
    "        pass\n",
    "    \n",
    "    def forward(self, x):\n",
    "        return 2 * x\n",
    "\n",
    "device = \"cuda:0\"   # Your Device\n",
    "\n",
    "# Backbone\n",
    "from backbones.sllnet import SLLNet\n",
    "\n",
    "# Note. Since our `iresnet50/100' was forked from Insightface, pre-trained parameters by theirs are compatible!\n",
    "# See: https://github.com/deepinsight/insightface/tree/master/model_zoo\n",
    "from backbones.iresnet import iresnet100\n",
    "\n",
    "arcface = iresnet100()\n",
    "arcface.load_state_dict(torch.load(\"/* Your Backbone */\", map_location = \"cpu\"))\n",
    "arcface = nn.Sequential(Multiply2(), arcface)  # Pixel Range in LFW is set to [-0.5, 0.5]\n",
    "arcface.eval().to(device)\n",
    "\n",
    "# Please download the pre-trained parameter from the link in README\n",
    "proposed = SLLNet([3,4,6,3])\n",
    "proposed.load_state_dict(torch.load(\"/* Your Backbone */\", map_location =\"cpu\")) # Enclosed Parameter\n",
    "proposed.eval().to(device)\n",
    "\n",
    "# Models for AT\n",
    "from backbones.iresnet_AT import IR_50\n",
    "model_at = IR_50()\n",
    "model_at.load_state_dict(torch.load(\"/* Your Backbone */\", map_location = \"cpu\"))\n",
    "model_at.eval().to(device)\n",
    "\n",
    "print(\"Done!\")"
   ]
  },
  {
   "cell_type": "code",
   "execution_count": null,
   "id": "51c21961",
   "metadata": {},
   "outputs": [],
   "source": [
    "# Quick Test for benchmarks\n",
    "# Measuring TAR@FAR=1e-3\n",
    "from eval_tools import feat_ext, benchmark_standard\n",
    "\n",
    "# ArcFace\n",
    "feat, norm = feat_ext(arcface, lfw, 128, device)\n",
    "print(\"norm: \", norm)\n",
    "tar, far, acc, thx = benchmark_standard(feat, 1e-3)\n",
    "print(\"tar, far, acc, thx: \", tar, far, acc, thx)\n",
    "\n",
    "# Proposed\n",
    "feat, norm = feat_ext(proposed, lfw, 128, device)\n",
    "print(\"norm: \", norm)\n",
    "tar, far, acc, thx = benchmark_standard(feat, 1e-3)\n",
    "print(\"tar, far, acc, thx: \", tar, far, acc, thx)\n"
   ]
  },
  {
   "cell_type": "markdown",
   "id": "e6789ab3",
   "metadata": {},
   "source": [
    "### Step 2. Table 1: Certifiable Robustness"
   ]
  },
  {
   "cell_type": "code",
   "execution_count": null,
   "id": "2ce8c402",
   "metadata": {},
   "outputs": [],
   "source": [
    "from eval_tools import benchmark_certified\n",
    "\n",
    "# eps = 1.5\n",
    "crau, crad, crai, epsu, epsd, epsi = benchmark_certified(lfw, proposed, 128, device, thx, 1.5)\n",
    "print(f\"CRA_U: {crau:.4f}\\teps_U: {epsu:.3f}\\tCRA_D: {crad:.4f}\\teps_D: {epsd:.3f}\\tCRA_I: {crai:.4f}\\teps_I: {epsi:.3f}\")\n",
    "\n",
    "# eps = 3.0\n",
    "crau, crad, crai, epsu, epsd, epsi = benchmark_certified(lfw, proposed, 128, device, thx, 3.0)\n",
    "print(f\"CRA_U: {crau:.4f}\\teps_U: {epsu:.3f}\\tCRA_D: {crad:.4f}\\teps_D: {epsd:.3f}\\tCRA_I: {crai:.4f}\\teps_I: {epsi:.3f}\")\n",
    "\n",
    "# eps = 0.25\n",
    "crau, crad, crai, epsu, epsd, epsi = benchmark_certified(lfw, proposed, 128, device, thx, 0.25)\n",
    "print(f\"CRA_U: {crau:.4f}\\teps_U: {epsu:.3f}\\tCRA_D: {crad:.4f}\\teps_D: {epsd:.3f}\\tCRA_I: {crai:.4f}\\teps_I: {epsi:.3f}\")\n",
    "\n",
    "# eps = 0.75\n",
    "crau, crad, crai, epsu, epsd, epsi = benchmark_certified(lfw, proposed, 128, device, thx, 0.75)\n",
    "print(f\"CRA_U: {crau:.4f}\\teps_U: {epsu:.3f}\\tCRA_D: {crad:.4f}\\teps_D: {epsd:.3f}\\tCRA_I: {crai:.4f}\\teps_I: {epsi:.3f}\")"
   ]
  },
  {
   "cell_type": "markdown",
   "id": "5a0e67bb",
   "metadata": {},
   "source": [
    "### Step 3. Table 2: Empirical Robustness"
   ]
  },
  {
   "cell_type": "markdown",
   "id": "f7cc1b66",
   "metadata": {},
   "source": [
    "#### Step 3-1. Attack Parameter Presets"
   ]
  },
  {
   "cell_type": "code",
   "execution_count": null,
   "id": "a333dc7a",
   "metadata": {},
   "outputs": [],
   "source": [
    "from easydict import EasyDict as edict\n",
    "\n",
    "# Presets for PGD\n",
    "paramPreset_PGD1 = edict()\n",
    "paramPreset_PGD1.eps = 1.5\n",
    "paramPreset_PGD1.alpha = 1.25\n",
    "paramPreset_PGD1.n_iter = 20\n",
    "\n",
    "paramPreset_PGD2 = edict()\n",
    "paramPreset_PGD2.eps = 3.0\n",
    "paramPreset_PGD2.alpha = 1.25\n",
    "paramPreset_PGD2.n_iter = 20\n",
    "\n",
    "paramPreset_PGD3 = edict()\n",
    "paramPreset_PGD3.eps = 0.25\n",
    "paramPreset_PGD3.alpha = 1.25\n",
    "paramPreset_PGD3.n_iter = 20\n",
    "\n",
    "paramPreset_PGD4 = edict()\n",
    "paramPreset_PGD4.eps = 0.75\n",
    "paramPreset_PGD4.alpha = 1.25\n",
    "paramPreset_PGD4.n_iter = 20\n",
    "\n",
    "# Presets for C&W\n",
    "paramPreset_CW1 = edict()\n",
    "paramPreset_CW1.alpha = 0.01\n",
    "paramPreset_CW1.n_iter = 100\n",
    "paramPreset_CW1.kappa1 = 0.05\n",
    "paramPreset_CW1.kappa2 = 0\n",
    "paramPreset_CW1.c = 3\n",
    "\n",
    "paramPreset_CW2 = edict()\n",
    "paramPreset_CW2.alpha = 0.01\n",
    "paramPreset_CW2.n_iter = 100\n",
    "paramPreset_CW2.kappa1 = 0.05\n",
    "paramPreset_CW2.kappa2 = 0\n",
    "paramPreset_CW2.c = 30\n",
    "\n",
    "# Target Models\n",
    "models = [\n",
    "    (\"ArcFace\", arcface),\n",
    "    (\"Proposed\", proposed),\n",
    "]\n"
   ]
  },
  {
   "cell_type": "markdown",
   "id": "4053caad",
   "metadata": {},
   "source": [
    "#### Step 3-2. Test PGD Attack"
   ]
  },
  {
   "cell_type": "code",
   "execution_count": null,
   "id": "5de7bd69",
   "metadata": {},
   "outputs": [],
   "source": [
    "from attacks import PGD\n",
    "from eval_tools import test_pgd\n",
    "\n",
    "attack_configs = [\n",
    "    (\"U\", PGD, paramPreset_PGD1),\n",
    "    (\"U\", PGD, paramPreset_PGD2),\n",
    "    (\"DI\", PGD, paramPreset_PGD3),\n",
    "    (\"DI\", PGD, paramPreset_PGD4),\n",
    "]\n",
    "\n",
    "# Results on ArcFace\n",
    "suffix = \"ArcFace, R100, MS1M-V3, PGD\"\n",
    "torch.backends.cudnn.benchmark = True\n",
    "dat = test_pgd(arcface, [(\"LFW\", lfw)], \"E\", device, attack_configs = attack_configs, suffix = suffix)\n",
    "\n",
    "# Results on Proposed\n",
    "suffix = \"Proposed, SLLNet, MS1M-V3, PGD\"\n",
    "torch.backends.cudnn.benchmark = True\n",
    "dat = test_pgd(proposed, [(\"LFW\", lfw)], \"E\", device, attack_configs = attack_configs, suffix = suffix)"
   ]
  },
  {
   "cell_type": "markdown",
   "id": "a63e54c8",
   "metadata": {},
   "source": [
    "#### Step 3-3. Test C&W Attack"
   ]
  },
  {
   "cell_type": "code",
   "execution_count": null,
   "id": "cecc29d5",
   "metadata": {},
   "outputs": [],
   "source": [
    "from attacks import CW\n",
    "from eval_tools import test_cw\n",
    "\n",
    "attack_configs = [\n",
    "    (\"U\", CW, paramPreset_CW1),\n",
    "    (\"DI\", CW, paramPreset_CW1),\n",
    "]\n",
    "\n",
    "# Results on ArcFace\n",
    "suffix = \"ArcFace, R100, MS1M-V3, CW\"\n",
    "torch.backends.cudnn.benchmark = True\n",
    "dat = test_cw(arcface, [(\"LFW\", lfw)], device, attack_configs = attack_configs, suffix = suffix, batch_size = 64)\n",
    "\n",
    "# Results on Proposed\n",
    "suffix = \"Proposed, SLLNet, MS1M-V3, CW\"\n",
    "torch.backends.cudnn.benchmark = True\n",
    "dat = test_cw(proposed, [(\"LFW\", lfw)], device, attack_configs = attack_configs, suffix = suffix, batch_size = 64)"
   ]
  }
 ],
 "metadata": {
  "kernelspec": {
   "display_name": "Python 3",
   "language": "python",
   "name": "python3"
  },
  "language_info": {
   "codemirror_mode": {
    "name": "ipython",
    "version": 3
   },
   "file_extension": ".py",
   "mimetype": "text/x-python",
   "name": "python",
   "nbconvert_exporter": "python",
   "pygments_lexer": "ipython3",
   "version": "3.8.3"
  }
 },
 "nbformat": 4,
 "nbformat_minor": 5
}
