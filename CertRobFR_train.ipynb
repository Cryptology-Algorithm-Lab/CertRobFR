{
 "cells": [
  {
   "cell_type": "markdown",
   "id": "128b609e",
   "metadata": {},
   "source": [
    "# Toward Certifiably Robust Face Recognition\n",
    "\n",
    "- Seunghun Paik, Dongsoo Kim, Chanwoo Hwang, Sunpill Kim, and Jae Hong Seo\n",
    "- Accepted for presentation at ECCV 2024\n",
    "\n",
    "This notebook gives an intruction to train the proposed face recognition model."
   ]
  },
  {
   "cell_type": "markdown",
   "id": "d15a6f90",
   "metadata": {},
   "source": [
    "### Prerequisite\n",
    "\n",
    "- Train Dataset: MS1MV3 (a.k.a. MS1M-RetinaFace) / Publicly Available at: https://drive.google.com/file/d/1JgmzL9OLTqDAZE86pBgETtSQL4USKTFy/view\n",
    "\n",
    "Note. This dataset includes LFW/CFP-FP/AgeDB benchmark datasets\n",
    "\n",
    "### Instructions \n",
    "\n",
    "1. Download the above train dataset\n",
    "\n",
    "2. Manipulate `config.py` to set the directory of train dataset and outputs\n",
    "\n",
    "3. Run the code below! (In order to run the enclosed train script `train.py`)\n",
    "\n",
    "Enjoy!"
   ]
  },
  {
   "cell_type": "code",
   "execution_count": null,
   "id": "ba802da9",
   "metadata": {},
   "outputs": [],
   "source": [
    "!python train.py"
   ]
  }
 ],
 "metadata": {
  "kernelspec": {
   "display_name": "Python 3",
   "language": "python",
   "name": "python3"
  },
  "language_info": {
   "codemirror_mode": {
    "name": "ipython",
    "version": 3
   },
   "file_extension": ".py",
   "mimetype": "text/x-python",
   "name": "python",
   "nbconvert_exporter": "python",
   "pygments_lexer": "ipython3",
   "version": "3.8.3"
  }
 },
 "nbformat": 4,
 "nbformat_minor": 5
}
